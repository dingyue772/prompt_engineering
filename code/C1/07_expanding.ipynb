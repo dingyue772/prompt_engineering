{
 "cells": [
  {
   "cell_type": "code",
   "execution_count": 2,
   "metadata": {},
   "outputs": [],
   "source": [
    "# 语料加载\n",
    "# 我们可以在推理那章学习到如何对一个评论判断其情感倾向\n",
    "sentiment = \"消极的\"\n",
    "\n",
    "# 一个产品的评价\n",
    "review = f\"\"\"\n",
    "他们在11月份的季节性销售期间以约49美元的价格出售17件套装，折扣约为一半。\\\n",
    "但由于某些原因（可能是价格欺诈），到了12月第二周，同样的套装价格全都涨到了70美元到89美元不等。\\\n",
    "11件套装的价格也上涨了大约10美元左右。\\\n",
    "虽然外观看起来还可以，但基座上锁定刀片的部分看起来不如几年前的早期版本那么好。\\\n",
    "不过我打算非常温柔地使用它，例如，\\\n",
    "我会先在搅拌机中将像豆子、冰、米饭等硬物研磨，然后再制成所需的份量，\\\n",
    "切换到打蛋器制作更细的面粉，或者在制作冰沙时先使用交叉切割刀片，然后使用平面刀片制作更细/不粘的效果。\\\n",
    "制作冰沙时，特别提示：\\\n",
    "将水果和蔬菜切碎并冷冻（如果使用菠菜，则轻轻煮软菠菜，然后冷冻直到使用；\\\n",
    "如果制作果酱，则使用小到中号的食品处理器），这样可以避免在制作冰沙时添加太多冰块。\\\n",
    "大约一年后，电机发出奇怪的噪音，我打电话给客服，但保修已经过期了，所以我不得不再买一个。\\\n",
    "总的来说，这些产品的总体质量已经下降，因此它们依靠品牌认可和消费者忠诚度来维持销售。\\\n",
    "货物在两天内到达。\n",
    "\"\"\""
   ]
  },
  {
   "cell_type": "code",
   "execution_count": 3,
   "metadata": {},
   "outputs": [
    {
     "name": "stdout",
     "output_type": "stream",
     "text": [
      "尊敬的客户，\n",
      "\n",
      "非常感谢您对我们产品的评价和反馈。我们非常重视您的意见，并对您在使用过程中遇到的问题表示诚挚的歉意。\n",
      "\n",
      "关于价格的变动，我们理解您的困惑。我们的季节性销售期间确实提供了一些折扣优惠，但由于市场因素和成本的波动，价格可能会有所变动。我们会认真考虑您的反馈，并努力提供更稳定和合理的价格策略。\n",
      "\n",
      "对于产品质量方面的问题，我们深感抱歉。我们一直致力于提供高品质的产品，并且会将您提到的问题反馈给我们的研发团队进行改进。我们希望能够在未来的版本中解决这些问题，以提供更好的使用体验。\n",
      "\n",
      "感谢您分享了您对产品的使用方法和技巧。我们会将这些信息传达给我们的客户服务团队，以便他们能够更好地为其他客户提供支持和建议。\n",
      "\n",
      "如果您有任何其他问题或需要进一步的帮助，请随时与我们联系。我们将竭诚为您提供满意的解决方案。\n",
      "\n",
      "再次感谢您对我们的支持和反馈。\n",
      "\n",
      "祝您生活愉快！\n",
      "\n",
      "AI客户代理\n"
     ]
    }
   ],
   "source": [
    "# 现在的temp参数值为0.7\n",
    "from tool import get_completion\n",
    "\n",
    "prompt = f\"\"\"\n",
    "你是一位客户服务的AI助手。\n",
    "你的任务是给一位重要客户发送邮件回复。\n",
    "根据客户通过“```”分隔的评价，生成回复以感谢客户的评价。提醒模型使用评价中的具体细节\n",
    "用简明而专业的语气写信。\n",
    "作为“AI客户代理”签署电子邮件。\n",
    "客户评论：\n",
    "```{review}```\n",
    "评论情感：{sentiment}\n",
    "\"\"\"\n",
    "response1 = get_completion(prompt)\n",
    "print(response1)"
   ]
  },
  {
   "cell_type": "code",
   "execution_count": 4,
   "metadata": {},
   "outputs": [
    {
     "name": "stdout",
     "output_type": "stream",
     "text": [
      "尊敬的客户，\n",
      "\n",
      "非常感谢您对我们产品的评价和反馈。我们非常重视您的意见，并对您在使用过程中遇到的问题表示诚挚的歉意。\n",
      "\n",
      "关于价格的变动，我们理解您的困惑。我们的季节性销售期间确实提供了一些折扣优惠，但价格的波动可能是由于市场供需关系的变化所致。我们会认真考虑您的反馈，并努力提供更稳定的价格策略。\n",
      "\n",
      "对于产品质量方面的问题，我们深感抱歉。我们一直致力于提供高品质的产品，并且会将您提到的问题反馈给我们的研发团队，以便改进和提升产品的质量和性能。\n",
      "\n",
      "您在邮件中提到了一些关于产品使用的具体细节，我们非常感谢您的分享。我们会将这些细节传达给我们的团队，并在未来的产品设计中加以考虑，以满足您和其他客户的需求。\n",
      "\n",
      "如果您有任何其他问题或需要进一步的帮助，请随时与我们联系。我们将竭诚为您提供优质的客户服务。\n",
      "\n",
      "再次感谢您对我们的支持和反馈。\n",
      "\n",
      "祝您生活愉快！\n",
      "\n",
      "AI客户代理\n"
     ]
    }
   ],
   "source": [
    "from tool import get_completion\n",
    "\n",
    "prompt = f\"\"\"\n",
    "你是一位客户服务的AI助手。\n",
    "你的任务是给一位重要客户发送邮件回复。\n",
    "根据客户通过“```”分隔的评价，生成回复以感谢客户的评价。提醒模型使用评价中的具体细节\n",
    "用简明而专业的语气写信。\n",
    "作为“AI客户代理”签署电子邮件。\n",
    "客户评论：\n",
    "```{review}```\n",
    "评论情感：{sentiment}\n",
    "\"\"\"\n",
    "response2 = get_completion(prompt, temperature=0)\n",
    "print(response2)"
   ]
  },
  {
   "cell_type": "code",
   "execution_count": 5,
   "metadata": {},
   "outputs": [
    {
     "data": {
      "text/markdown": [
       "尊敬的客户， \n",
       "\n",
       "非常感谢您对我们产品的评价和反馈。我们非常重视您的意见，并对您在使用过程中遇到的问题表示诚挚的歉意。 \n",
       "\n",
       "<span style='color:red;font-weight:700;text-decoration:line-through;'>关于价格的变动，我们理解您的困惑。我们的季节性销售期间确实提供了一些折扣优惠，但由于市场因素和成本的波动，价格可能会有所变动。我们会认真考虑您的反馈，并努力提供更稳定和合理的价格策略。 </span><span style='color:green;font-weight:700;'>关于价格的变动，我们理解您的困惑。我们的季节性销售期间确实提供了一些折扣优惠，但价格的波动可能是由于市场供需关系的变化所致。我们会认真考虑您的反馈，并努力提供更稳定的价格策略。 </span>\n",
       "\n",
       "<span style='color:red;font-weight:700;text-decoration:line-through;'>对于产品质量方面的问题，我们深感抱歉。我们一直致力于提供高品质的产品，并且会将您提到的问题反馈给我们的研发团队进行改进。我们希望能够在未来的版本中解决这些问题，以提供更好的使用体验。 </span><span style='color:green;font-weight:700;'>对于产品质量方面的问题，我们深感抱歉。我们一直致力于提供高品质的产品，并且会将您提到的问题反馈给我们的研发团队，以便改进和提升产品的质量和性能。 </span>\n",
       "\n",
       "<span style='color:red;font-weight:700;text-decoration:line-through;'>感谢您分享了您对产品的使用方法和技巧。我们会将这些信息传达给我们的客户服务团队，以便他们能够更好地为其他客户提供支持和建议。 </span><span style='color:green;font-weight:700;'>您在邮件中提到了一些关于产品使用的具体细节，我们非常感谢您的分享。我们会将这些细节传达给我们的团队，并在未来的产品设计中加以考虑，以满足您和其他客户的需求。 </span>\n",
       "\n",
       "<span style='color:red;font-weight:700;text-decoration:line-through;'>如果您有任何其他问题或需要进一步的帮助，请随时与我们联系。我们将竭诚为您提供满意的解决方案。 </span><span style='color:green;font-weight:700;'>如果您有任何其他问题或需要进一步的帮助，请随时与我们联系。我们将竭诚为您提供优质的客户服务。 </span>\n",
       "\n",
       "再次感谢您对我们的支持和反馈。 \n",
       "\n",
       "祝您生活愉快！ \n",
       "\n",
       "AI客户代理"
      ],
      "text/plain": [
       "<IPython.core.display.Markdown object>"
      ]
     },
     "metadata": {},
     "output_type": "display_data"
    }
   ],
   "source": [
    "from redlines import Redlines\n",
    "from IPython.display import display, Markdown\n",
    "diff = Redlines(response1, response2)\n",
    "display(Markdown(diff.output_markdown))"
   ]
  }
 ],
 "metadata": {
  "kernelspec": {
   "display_name": "base",
   "language": "python",
   "name": "python3"
  },
  "language_info": {
   "codemirror_mode": {
    "name": "ipython",
    "version": 3
   },
   "file_extension": ".py",
   "mimetype": "text/x-python",
   "name": "python",
   "nbconvert_exporter": "python",
   "pygments_lexer": "ipython3",
   "version": "3.9.13"
  }
 },
 "nbformat": 4,
 "nbformat_minor": 2
}
